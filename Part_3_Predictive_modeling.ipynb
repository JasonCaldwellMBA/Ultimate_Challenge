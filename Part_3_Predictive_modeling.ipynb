{
 "cells": [
  {
   "cell_type": "markdown",
   "source": [
    "# Ultimate Inc\n",
    "\n",
    "## Part 3 of Data Science Challenge\n",
    "\n",
    "Ultimate is interested in predicting rider retention. To help explore this question, we have\n",
    "provided a sample dataset of a cohort of users who signed up for an Ultimate account in\n",
    "January 2014. The data was pulled several months later; we consider a user retained if they\n",
    "were “active” (i.e. took a trip) in the preceding 30 days.\n",
    "\n",
    "We would like you to use this data set to help understand what factors are the best predictors\n",
    "for retention, and offer suggestions to operationalize those insights to help Ultimate.\n",
    "\n",
    "The data is in the attached file ultimate_data_challenge.json. See below for a detailed\n",
    "description of the dataset. Please include any code you wrote for the analysis and delete the\n",
    "dataset when you have finished with the challenge.\n",
    "1. Perform any cleaning, exploratory analysis, and/or visualizations to use the provided\n",
    "data for this analysis (a few sentences/plots describing your approach will suffice). What\n",
    "fraction of the observed users were retained?\n",
    "2. Build a predictive model to help Ultimate determine whether or not a user will be active in\n",
    "their 6th month on the system. Discuss why you chose your approach, what alternatives\n",
    "you considered, and any concerns you have. How valid is your model? Include any key\n",
    "indicators of model performance.\n",
    "3. Briefly discuss how Ultimate might leverage the insights gained from the model to\n",
    "improve its long term rider retention (again, a few sentences will suffice).\n",
    "\n",
    "### Data description\n",
    "- city: city this user signed up in\n",
    "- phone: primary device for this user\n",
    "- signup_date: date of account registration; in the form ‘YYYYMMDD’\n",
    "- last_trip_date: the last time this user completed a trip; in the form ‘YYYYMMDD’\n",
    "- avg_dist: the average distance in miles per trip taken in the first 30 days after signup\n",
    "- avg_rating_by_driver: the rider’s average rating over all of their trips\n",
    "- avg_rating_of_driver: the rider’s average rating of their drivers over all of their trips\n",
    "- surge_pct: the percent of trips taken with surge multiplier > 1\n",
    "- avg_surge: The average surge multiplier over all of this user’s trips\n",
    "- trips_in_first_30_days: the number of trips this user took in the first 30 days after signing up\n",
    "- ultimate_black_user: TRUE if the user took an Ultimate Black in their first 30 days; FALSE\n",
    "otherwise\n",
    "- weekday_pct: the percent of the user’s trips occurring during a weekday"
   ],
   "metadata": {
    "collapsed": false
   }
  },
  {
   "cell_type": "code",
   "execution_count": 16,
   "outputs": [],
   "source": [
    "import numpy as np\n",
    "import pandas as pd\n",
    "import seaborn as sns\n",
    "import matplotlib.pyplot as plt\n",
    "from sklearn.ensemble import RandomForestClassifier\n",
    "from sklearn.model_selection import train_test_split\n",
    "from sklearn import preprocessing\n",
    "from sklearn.metrics import f1_score\n",
    "from sklearn.metrics import confusion_matrix\n",
    "from sklearn.metrics import accuracy_score"
   ],
   "metadata": {
    "collapsed": false,
    "pycharm": {
     "name": "#%%\n"
    }
   }
  },
  {
   "cell_type": "markdown",
   "source": [
    "### Wrangling and Exploring Data"
   ],
   "metadata": {
    "collapsed": false,
    "pycharm": {
     "name": "#%% md\n"
    }
   }
  },
  {
   "cell_type": "code",
   "execution_count": 17,
   "outputs": [
    {
     "data": {
      "text/plain": "             city  trips_in_first_30_days signup_date  avg_rating_of_driver  \\\n0  King's Landing                       4  2014-01-25                   4.7   \n1         Astapor                       0  2014-01-29                   5.0   \n2         Astapor                       3  2014-01-06                   4.3   \n\n   avg_surge last_trip_date    phone  surge_pct  ultimate_black_user  \\\n0        1.1     2014-06-17   iPhone       15.4                 True   \n1        1.0     2014-05-05  Android        0.0                False   \n2        1.0     2014-01-07   iPhone        0.0                False   \n\n   weekday_pct  avg_dist  avg_rating_by_driver  \n0         46.2      3.67                   5.0  \n1         50.0      8.26                   5.0  \n2        100.0      0.77                   5.0  ",
      "text/html": "<div>\n<style scoped>\n    .dataframe tbody tr th:only-of-type {\n        vertical-align: middle;\n    }\n\n    .dataframe tbody tr th {\n        vertical-align: top;\n    }\n\n    .dataframe thead th {\n        text-align: right;\n    }\n</style>\n<table border=\"1\" class=\"dataframe\">\n  <thead>\n    <tr style=\"text-align: right;\">\n      <th></th>\n      <th>city</th>\n      <th>trips_in_first_30_days</th>\n      <th>signup_date</th>\n      <th>avg_rating_of_driver</th>\n      <th>avg_surge</th>\n      <th>last_trip_date</th>\n      <th>phone</th>\n      <th>surge_pct</th>\n      <th>ultimate_black_user</th>\n      <th>weekday_pct</th>\n      <th>avg_dist</th>\n      <th>avg_rating_by_driver</th>\n    </tr>\n  </thead>\n  <tbody>\n    <tr>\n      <th>0</th>\n      <td>King's Landing</td>\n      <td>4</td>\n      <td>2014-01-25</td>\n      <td>4.7</td>\n      <td>1.1</td>\n      <td>2014-06-17</td>\n      <td>iPhone</td>\n      <td>15.4</td>\n      <td>True</td>\n      <td>46.2</td>\n      <td>3.67</td>\n      <td>5.0</td>\n    </tr>\n    <tr>\n      <th>1</th>\n      <td>Astapor</td>\n      <td>0</td>\n      <td>2014-01-29</td>\n      <td>5.0</td>\n      <td>1.0</td>\n      <td>2014-05-05</td>\n      <td>Android</td>\n      <td>0.0</td>\n      <td>False</td>\n      <td>50.0</td>\n      <td>8.26</td>\n      <td>5.0</td>\n    </tr>\n    <tr>\n      <th>2</th>\n      <td>Astapor</td>\n      <td>3</td>\n      <td>2014-01-06</td>\n      <td>4.3</td>\n      <td>1.0</td>\n      <td>2014-01-07</td>\n      <td>iPhone</td>\n      <td>0.0</td>\n      <td>False</td>\n      <td>100.0</td>\n      <td>0.77</td>\n      <td>5.0</td>\n    </tr>\n  </tbody>\n</table>\n</div>"
     },
     "execution_count": 17,
     "metadata": {},
     "output_type": "execute_result"
    }
   ],
   "source": [
    "# Load data\n",
    "df = pd.read_json('ultimate_data_challenge.json')\n",
    "df.head(3)"
   ],
   "metadata": {
    "collapsed": false,
    "pycharm": {
     "name": "#%%\n"
    }
   }
  },
  {
   "cell_type": "code",
   "execution_count": 18,
   "outputs": [
    {
     "name": "stdout",
     "output_type": "stream",
     "text": [
      "<class 'pandas.core.frame.DataFrame'>\n",
      "RangeIndex: 50000 entries, 0 to 49999\n",
      "Data columns (total 12 columns):\n",
      " #   Column                  Non-Null Count  Dtype  \n",
      "---  ------                  --------------  -----  \n",
      " 0   city                    50000 non-null  object \n",
      " 1   trips_in_first_30_days  50000 non-null  int64  \n",
      " 2   signup_date             50000 non-null  object \n",
      " 3   avg_rating_of_driver    41878 non-null  float64\n",
      " 4   avg_surge               50000 non-null  float64\n",
      " 5   last_trip_date          50000 non-null  object \n",
      " 6   phone                   49604 non-null  object \n",
      " 7   surge_pct               50000 non-null  float64\n",
      " 8   ultimate_black_user     50000 non-null  bool   \n",
      " 9   weekday_pct             50000 non-null  float64\n",
      " 10  avg_dist                50000 non-null  float64\n",
      " 11  avg_rating_by_driver    49799 non-null  float64\n",
      "dtypes: bool(1), float64(6), int64(1), object(4)\n",
      "memory usage: 4.2+ MB\n"
     ]
    }
   ],
   "source": [
    "# Inspect data\n",
    "df.info()"
   ],
   "metadata": {
    "collapsed": false,
    "pycharm": {
     "name": "#%%\n"
    }
   }
  },
  {
   "cell_type": "code",
   "execution_count": 19,
   "outputs": [
    {
     "data": {
      "text/plain": "avg_rating_of_driver      8122\nphone                      396\navg_rating_by_driver       201\ncity                         0\ntrips_in_first_30_days       0\nsignup_date                  0\navg_surge                    0\nlast_trip_date               0\nsurge_pct                    0\nultimate_black_user          0\nweekday_pct                  0\navg_dist                     0\ndtype: int64"
     },
     "execution_count": 19,
     "metadata": {},
     "output_type": "execute_result"
    }
   ],
   "source": [
    "# Check for missing data\n",
    "df.isnull().sum().sort_values(ascending=False)"
   ],
   "metadata": {
    "collapsed": false,
    "pycharm": {
     "name": "#%%\n"
    }
   }
  },
  {
   "cell_type": "markdown",
   "source": [
    "### Analyzing missing values"
   ],
   "metadata": {
    "collapsed": false
   }
  },
  {
   "cell_type": "code",
   "execution_count": 20,
   "outputs": [
    {
     "data": {
      "text/plain": "5.0    20771\nNaN     8122\n4.0     4193\n4.5     2498\n4.8     2430\n4.7     1945\n4.9     1771\n4.3     1487\n4.6     1143\n3.0     1003\n4.4      829\n4.2      601\n3.5      488\n3.8      428\n4.1      398\n3.7      364\n1.0      256\n3.9      255\n2.0      209\n3.3      201\n3.6      172\n3.4      108\n2.5       94\n3.2       53\n2.7       47\n3.1       39\n2.8       28\n2.3       22\n2.9       13\n2.6       12\n2.1        6\n1.5        4\n2.4        3\n1.8        2\n1.7        2\n1.9        1\n2.2        1\n1.6        1\nName: avg_rating_of_driver, dtype: int64"
     },
     "execution_count": 20,
     "metadata": {},
     "output_type": "execute_result"
    }
   ],
   "source": [
    "# avg_rating_of_driver\n",
    "df.avg_rating_of_driver.value_counts(dropna=False)"
   ],
   "metadata": {
    "collapsed": false,
    "pycharm": {
     "name": "#%%\n"
    }
   }
  },
  {
   "cell_type": "code",
   "execution_count": 21,
   "outputs": [
    {
     "data": {
      "text/plain": "iPhone     34582\nAndroid    15022\nNaN          396\nName: phone, dtype: int64"
     },
     "execution_count": 21,
     "metadata": {},
     "output_type": "execute_result"
    }
   ],
   "source": [
    "# phone\n",
    "df.phone.value_counts(dropna=False)"
   ],
   "metadata": {
    "collapsed": false,
    "pycharm": {
     "name": "#%%\n"
    }
   }
  },
  {
   "cell_type": "code",
   "execution_count": 22,
   "outputs": [
    {
     "data": {
      "text/plain": "5.0    28508\n4.8     4537\n4.7     3330\n4.9     3094\n4.5     2424\n4.6     2078\n4.0     1914\n4.3     1018\n4.4      860\n3.0      602\n4.2      342\nNaN      201\n3.5      199\n3.7      195\n1.0      181\n2.0      126\n4.1      125\n3.8      111\n3.3       47\n3.9       41\n2.5       31\n3.6       19\n3.4        5\n1.5        4\n2.8        3\n2.7        2\n3.2        2\n2.3        1\nName: avg_rating_by_driver, dtype: int64"
     },
     "execution_count": 22,
     "metadata": {},
     "output_type": "execute_result"
    }
   ],
   "source": [
    "# avg_rating_by_driver\n",
    "df.avg_rating_by_driver.value_counts(dropna=False)"
   ],
   "metadata": {
    "collapsed": false,
    "pycharm": {
     "name": "#%%\n"
    }
   }
  },
  {
   "cell_type": "markdown",
   "source": [
    "Plan to fill both of the missing ratings by using the overall averages for each column. \n",
    "However, will do this later after the test train split to avoid data leakage.\n",
    "Assuming the missing phone values means it's some other type of carrier."
   ],
   "metadata": {
    "collapsed": false,
    "pycharm": {
     "name": "#%% md\n"
    }
   }
  },
  {
   "cell_type": "code",
   "execution_count": 23,
   "outputs": [
    {
     "data": {
      "text/plain": "iPhone     34582\nAndroid    15022\nother        396\nName: phone, dtype: int64"
     },
     "execution_count": 23,
     "metadata": {},
     "output_type": "execute_result"
    }
   ],
   "source": [
    "df.phone = df.phone.fillna('other')\n",
    "df.phone.value_counts(dropna=False)"
   ],
   "metadata": {
    "collapsed": false,
    "pycharm": {
     "name": "#%%\n"
    }
   }
  },
  {
   "cell_type": "code",
   "execution_count": 24,
   "outputs": [
    {
     "name": "stdout",
     "output_type": "stream",
     "text": [
      "<class 'pandas.core.frame.DataFrame'>\n",
      "RangeIndex: 50000 entries, 0 to 49999\n",
      "Data columns (total 12 columns):\n",
      " #   Column                  Non-Null Count  Dtype         \n",
      "---  ------                  --------------  -----         \n",
      " 0   city                    50000 non-null  object        \n",
      " 1   trips_in_first_30_days  50000 non-null  int64         \n",
      " 2   signup_date             50000 non-null  datetime64[ns]\n",
      " 3   avg_rating_of_driver    41878 non-null  float64       \n",
      " 4   avg_surge               50000 non-null  float64       \n",
      " 5   last_trip_date          50000 non-null  datetime64[ns]\n",
      " 6   phone                   50000 non-null  object        \n",
      " 7   surge_pct               50000 non-null  float64       \n",
      " 8   ultimate_black_user     50000 non-null  bool          \n",
      " 9   weekday_pct             50000 non-null  float64       \n",
      " 10  avg_dist                50000 non-null  float64       \n",
      " 11  avg_rating_by_driver    49799 non-null  float64       \n",
      "dtypes: bool(1), datetime64[ns](2), float64(6), int64(1), object(2)\n",
      "memory usage: 4.2+ MB\n"
     ]
    }
   ],
   "source": [
    "# Fix date time data types.\n",
    "df.signup_date = pd.to_datetime(df.signup_date)\n",
    "df.last_trip_date = pd.to_datetime(df.last_trip_date)\n",
    "df.info()"
   ],
   "metadata": {
    "collapsed": false,
    "pycharm": {
     "name": "#%%\n"
    }
   }
  },
  {
   "cell_type": "code",
   "execution_count": 25,
   "outputs": [
    {
     "data": {
      "text/plain": "       trips_in_first_30_days  avg_rating_of_driver     avg_surge  \\\ncount            50000.000000          41878.000000  50000.000000   \nmean                 2.278200              4.601559      1.074764   \nstd                  3.792684              0.617338      0.222336   \nmin                  0.000000              1.000000      1.000000   \n25%                  0.000000              4.300000      1.000000   \n50%                  1.000000              4.900000      1.000000   \n75%                  3.000000              5.000000      1.050000   \nmax                125.000000              5.000000      8.000000   \n\n          surge_pct   weekday_pct      avg_dist  avg_rating_by_driver  \ncount  50000.000000  50000.000000  50000.000000          49799.000000  \nmean       8.849536     60.926084      5.796827              4.778158  \nstd       19.958811     37.081503      5.707357              0.446652  \nmin        0.000000      0.000000      0.000000              1.000000  \n25%        0.000000     33.300000      2.420000              4.700000  \n50%        0.000000     66.700000      3.880000              5.000000  \n75%        8.600000    100.000000      6.940000              5.000000  \nmax      100.000000    100.000000    160.960000              5.000000  ",
      "text/html": "<div>\n<style scoped>\n    .dataframe tbody tr th:only-of-type {\n        vertical-align: middle;\n    }\n\n    .dataframe tbody tr th {\n        vertical-align: top;\n    }\n\n    .dataframe thead th {\n        text-align: right;\n    }\n</style>\n<table border=\"1\" class=\"dataframe\">\n  <thead>\n    <tr style=\"text-align: right;\">\n      <th></th>\n      <th>trips_in_first_30_days</th>\n      <th>avg_rating_of_driver</th>\n      <th>avg_surge</th>\n      <th>surge_pct</th>\n      <th>weekday_pct</th>\n      <th>avg_dist</th>\n      <th>avg_rating_by_driver</th>\n    </tr>\n  </thead>\n  <tbody>\n    <tr>\n      <th>count</th>\n      <td>50000.000000</td>\n      <td>41878.000000</td>\n      <td>50000.000000</td>\n      <td>50000.000000</td>\n      <td>50000.000000</td>\n      <td>50000.000000</td>\n      <td>49799.000000</td>\n    </tr>\n    <tr>\n      <th>mean</th>\n      <td>2.278200</td>\n      <td>4.601559</td>\n      <td>1.074764</td>\n      <td>8.849536</td>\n      <td>60.926084</td>\n      <td>5.796827</td>\n      <td>4.778158</td>\n    </tr>\n    <tr>\n      <th>std</th>\n      <td>3.792684</td>\n      <td>0.617338</td>\n      <td>0.222336</td>\n      <td>19.958811</td>\n      <td>37.081503</td>\n      <td>5.707357</td>\n      <td>0.446652</td>\n    </tr>\n    <tr>\n      <th>min</th>\n      <td>0.000000</td>\n      <td>1.000000</td>\n      <td>1.000000</td>\n      <td>0.000000</td>\n      <td>0.000000</td>\n      <td>0.000000</td>\n      <td>1.000000</td>\n    </tr>\n    <tr>\n      <th>25%</th>\n      <td>0.000000</td>\n      <td>4.300000</td>\n      <td>1.000000</td>\n      <td>0.000000</td>\n      <td>33.300000</td>\n      <td>2.420000</td>\n      <td>4.700000</td>\n    </tr>\n    <tr>\n      <th>50%</th>\n      <td>1.000000</td>\n      <td>4.900000</td>\n      <td>1.000000</td>\n      <td>0.000000</td>\n      <td>66.700000</td>\n      <td>3.880000</td>\n      <td>5.000000</td>\n    </tr>\n    <tr>\n      <th>75%</th>\n      <td>3.000000</td>\n      <td>5.000000</td>\n      <td>1.050000</td>\n      <td>8.600000</td>\n      <td>100.000000</td>\n      <td>6.940000</td>\n      <td>5.000000</td>\n    </tr>\n    <tr>\n      <th>max</th>\n      <td>125.000000</td>\n      <td>5.000000</td>\n      <td>8.000000</td>\n      <td>100.000000</td>\n      <td>100.000000</td>\n      <td>160.960000</td>\n      <td>5.000000</td>\n    </tr>\n  </tbody>\n</table>\n</div>"
     },
     "execution_count": 25,
     "metadata": {},
     "output_type": "execute_result"
    }
   ],
   "source": [
    "# Summary statistics\n",
    "df.describe()"
   ],
   "metadata": {
    "collapsed": false,
    "pycharm": {
     "name": "#%%\n"
    }
   }
  },
  {
   "cell_type": "code",
   "execution_count": 26,
   "outputs": [
    {
     "data": {
      "text/plain": "Winterfell        23336\nAstapor           16534\nKing's Landing    10130\nName: city, dtype: int64"
     },
     "execution_count": 26,
     "metadata": {},
     "output_type": "execute_result"
    }
   ],
   "source": [
    "# city\n",
    "df.city.value_counts()"
   ],
   "metadata": {
    "collapsed": false,
    "pycharm": {
     "name": "#%%\n"
    }
   }
  },
  {
   "cell_type": "code",
   "execution_count": 27,
   "outputs": [
    {
     "data": {
      "text/plain": "   trips_in_first_30_days          signup_date  avg_rating_of_driver  \\\n0                       4  1390608000000000000                   4.7   \n1                       0  1390953600000000000                   5.0   \n2                       3  1388966400000000000                   4.3   \n\n   avg_surge       last_trip_date    phone  surge_pct  ultimate_black_user  \\\n0        1.1  1402963200000000000   iPhone       15.4                 True   \n1        1.0  1399248000000000000  Android        0.0                False   \n2        1.0  1389052800000000000   iPhone        0.0                False   \n\n   weekday_pct  avg_dist  avg_rating_by_driver  city_Astapor  \\\n0         46.2      3.67                   5.0             0   \n1         50.0      8.26                   5.0             1   \n2        100.0      0.77                   5.0             1   \n\n   city_King's Landing  city_Winterfell  \n0                    1                0  \n1                    0                0  \n2                    0                0  ",
      "text/html": "<div>\n<style scoped>\n    .dataframe tbody tr th:only-of-type {\n        vertical-align: middle;\n    }\n\n    .dataframe tbody tr th {\n        vertical-align: top;\n    }\n\n    .dataframe thead th {\n        text-align: right;\n    }\n</style>\n<table border=\"1\" class=\"dataframe\">\n  <thead>\n    <tr style=\"text-align: right;\">\n      <th></th>\n      <th>trips_in_first_30_days</th>\n      <th>signup_date</th>\n      <th>avg_rating_of_driver</th>\n      <th>avg_surge</th>\n      <th>last_trip_date</th>\n      <th>phone</th>\n      <th>surge_pct</th>\n      <th>ultimate_black_user</th>\n      <th>weekday_pct</th>\n      <th>avg_dist</th>\n      <th>avg_rating_by_driver</th>\n      <th>city_Astapor</th>\n      <th>city_King's Landing</th>\n      <th>city_Winterfell</th>\n    </tr>\n  </thead>\n  <tbody>\n    <tr>\n      <th>0</th>\n      <td>4</td>\n      <td>1390608000000000000</td>\n      <td>4.7</td>\n      <td>1.1</td>\n      <td>1402963200000000000</td>\n      <td>iPhone</td>\n      <td>15.4</td>\n      <td>True</td>\n      <td>46.2</td>\n      <td>3.67</td>\n      <td>5.0</td>\n      <td>0</td>\n      <td>1</td>\n      <td>0</td>\n    </tr>\n    <tr>\n      <th>1</th>\n      <td>0</td>\n      <td>1390953600000000000</td>\n      <td>5.0</td>\n      <td>1.0</td>\n      <td>1399248000000000000</td>\n      <td>Android</td>\n      <td>0.0</td>\n      <td>False</td>\n      <td>50.0</td>\n      <td>8.26</td>\n      <td>5.0</td>\n      <td>1</td>\n      <td>0</td>\n      <td>0</td>\n    </tr>\n    <tr>\n      <th>2</th>\n      <td>3</td>\n      <td>1388966400000000000</td>\n      <td>4.3</td>\n      <td>1.0</td>\n      <td>1389052800000000000</td>\n      <td>iPhone</td>\n      <td>0.0</td>\n      <td>False</td>\n      <td>100.0</td>\n      <td>0.77</td>\n      <td>5.0</td>\n      <td>1</td>\n      <td>0</td>\n      <td>0</td>\n    </tr>\n  </tbody>\n</table>\n</div>"
     },
     "execution_count": 27,
     "metadata": {},
     "output_type": "execute_result"
    }
   ],
   "source": [
    "# Date time need to be numeric for model later on.\n",
    "df.signup_date = pd.to_numeric(df.signup_date)\n",
    "df.last_trip_date = pd.to_numeric(df.last_trip_date)\n",
    "# One hot encode city categories\n",
    "df_cleaned = pd.get_dummies(df, prefix=['city'], columns=['city'])\n",
    "df_cleaned.head(3)"
   ],
   "metadata": {
    "collapsed": false,
    "pycharm": {
     "name": "#%%\n"
    }
   }
  }
 ],
 "metadata": {
  "kernelspec": {
   "name": "pycharm-cef1f773",
   "language": "python",
   "display_name": "PyCharm (pycon2015_tutorial322)"
  },
  "language_info": {
   "codemirror_mode": {
    "name": "ipython",
    "version": 2
   },
   "file_extension": ".py",
   "mimetype": "text/x-python",
   "name": "python",
   "nbconvert_exporter": "python",
   "pygments_lexer": "ipython2",
   "version": "2.7.6"
  }
 },
 "nbformat": 4,
 "nbformat_minor": 0
}