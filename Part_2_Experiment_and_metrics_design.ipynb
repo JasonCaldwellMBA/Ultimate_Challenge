{
 "cells": [
  {
   "cell_type": "markdown",
   "metadata": {
    "collapsed": true,
    "pycharm": {
     "name": "#%% md\n"
    }
   },
   "source": [
    "# Ultimate Inc\n",
    "\n",
    "## Part 2 of Data Science Challenge\n",
    "\n",
    "The neighboring cities of Gotham and Metropolis have complementary circadian rhythms: on\n",
    "weekdays, Ultimate Gotham is most active at night, and Ultimate Metropolis is most active\n",
    "during the day. On weekends, there is reasonable activity in both cities.\n",
    "\n",
    "However, a toll bridge, with a two way toll, between the two cities causes driver partners to tend\n",
    "to be exclusive to each city. The Ultimate managers of city operations for the two cities have\n",
    "proposed an experiment to encourage driver partners to be available in both cities, by\n",
    "reimbursing all toll costs.\n",
    "\n",
    "1. What would you choose as the key measure of success of this experiment in\n",
    "encouraging driver partners to serve both cities, and why would you choose this metric?\n",
    "2. Describe a practical experiment you would design to compare the effectiveness of the\n",
    "proposed change in relation to the key measure of success. Please provide details on:  \n",
    "a) how you will implement the experiment  \n",
    "b) what statistical test(s) you will conduct to verify the significance of the\n",
    "observation  \n",
    "c) how you would interpret the results and provide recommendations to the city\n",
    "operations team along with any caveats.\n",
    "\n",
    "Note: The two cities of Gotham and Metropolis are not in the provided dataset; however, you do\n",
    "not need this information to answer Part 2."
   ]
  },
  {
   "cell_type": "markdown",
   "source": [
    "### Response\n",
    "\n",
    "This is a challenging set of questions because it is difficult to know what information we know for sure.\n",
    "Therefore, I'm making the following assumptions:  \n",
    "a) These incentives will also increase the company's overall net income.\n",
    "- There is a risk that we will succeed for this project (or benefit one of the cities) but end up hurting the company because the additional fees eat up too much of the profits.\n",
    "\n",
    "b) There is a driver's app that already collects information (including details about tolls) automatically.\n",
    "\n",
    "c) Riders are already billed tolls (including when the driver goes to or returns to a destination in some cases) when it was related to their trip.\n",
    "\n",
    "#### Answer 1\n",
    "The total amount of rides in each city per driver is the key measure of success for this project.\n",
    "Would compare these amounts from a randomly selected experimental group (reimbursement of tolls) and control group (no reimbursement of tolls) over a certain amount of time.\n",
    "\n",
    "#### Answer 2a\n",
    "Would implement the experiment by:\n",
    "1. Sending a message to all drivers letting them know about the upcoming campaign with a link to the webpage in Step 7.\n",
    "2. Randomly select a certain percentage, such as 10%, of driver's to participate in the campaign.\n",
    "These are the experimental group.\n",
    "3. Randomly select the same percentage of drivers for a control group (assuming this group has similar characteristics to the experimental group).\n",
    "This has the advantages of:\n",
    "    - controlling costs since the benefits of reimbursing tolls is unknown.\n",
    "    - providing an easy way to compare the results to see if the campaign was successful.\n",
    "4. Have a clear start date and end date (i.e. one quarter or whatever the company's release cycle was).\n",
    "5. Have the existing app automatically handle the new reimbursements (this assumes there is zero development costs for the company).\n",
    "6. Send a message to only the selected driver's letting them know they are eligible for toll reimbursements during the trial period.\n",
    "7. Have a help page on the company's website allowing everyone to see information about the campaign to make it clear this is for the trial period and only applies in certain cases.\n",
    "8. Analyze and evaluate the results after the trial ends.\n",
    "\n",
    "#### Answer 2b\n",
    "Would use a one-tailed nonparametric (i.e. Wilcoxon Signed-rank) test to determine statistical significance because I'm assuming:\n",
    "- the campaign has a large sample size (lots of drivers in both cities and crossing the bridge/paying tolls). \n",
    "- the two groups are comparable and from the same population.\n",
    "- data is not normally distributed; therefore, cannot use a paired t-test.\n",
    "- the differences are only significant if the population mean for the experimental group is greater than that of the control group.\n",
    "\n",
    "#### Answer 2c\n",
    "The null hypothesis for this project is:\n",
    "- reimbursing driver's for tolls does not increase the number of rides in the two cities.\n",
    " \n",
    "After analyzing the results of the campaign, I'll assume they were statistically significant (less than 0.05 chance of them happening randomly) and that we can therefore reject the null hypothesis.\n",
    "In this scenario, reimbursing the tolls did provide the necessary incentives to encourage the drivers to work in multiple cities; which then increased the number of rides.\n",
    "\n",
    "All the assumptions that were made above would need to be shown during the presentation of these results to management.\n",
    "In this notebook, there are a significant number of assumptions because everything is theoretical.\n",
    "In a real project, most of these assumptions would be clarified by the available data, existing technology, or others at the company earlier in the process.\n",
    "\n",
    "However, it may take some time after the campaign has ended to determine if reimbursing all tolls really improves the company's net income.\n",
    "As a result, making this change permanent and available to all drivers should only happen after that is confirmed too."
   ],
   "metadata": {
    "collapsed": false,
    "pycharm": {
     "name": "#%% md\n"
    }
   }
  }
 ],
 "metadata": {
  "kernelspec": {
   "name": "pycharm-cef1f773",
   "language": "python",
   "display_name": "PyCharm (pycon2015_tutorial322)"
  },
  "language_info": {
   "codemirror_mode": {
    "name": "ipython",
    "version": 2
   },
   "file_extension": ".py",
   "mimetype": "text/x-python",
   "name": "python",
   "nbconvert_exporter": "python",
   "pygments_lexer": "ipython2",
   "version": "2.7.6"
  }
 },
 "nbformat": 4,
 "nbformat_minor": 0
}