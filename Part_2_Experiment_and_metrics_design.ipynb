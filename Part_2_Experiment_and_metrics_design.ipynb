{
 "cells": [
  {
   "cell_type": "markdown",
   "metadata": {
    "collapsed": true,
    "pycharm": {
     "name": "#%% md\n"
    }
   },
   "source": [
    "# Ultimate Inc\n",
    "\n",
    "## Part 2 of Data Science Challenge\n",
    "\n",
    "The neighboring cities of Gotham and Metropolis have complementary circadian rhythms: on\n",
    "weekdays, Ultimate Gotham is most active at night, and Ultimate Metropolis is most active\n",
    "during the day. On weekends, there is reasonable activity in both cities.\n",
    "\n",
    "However, a toll bridge, with a two way toll, between the two cities causes driver partners to tend\n",
    "to be exclusive to each city. The Ultimate managers of city operations for the two cities have\n",
    "proposed an experiment to encourage driver partners to be available in both cities, by\n",
    "reimbursing all toll costs.\n",
    "\n",
    "1. What would you choose as the key measure of success of this experiment in\n",
    "encouraging driver partners to serve both cities, and why would you choose this metric?\n",
    "2. Describe a practical experiment you would design to compare the effectiveness of the\n",
    "proposed change in relation to the key measure of success. Please provide details on:  \n",
    "a) how you will implement the experiment  \n",
    "b) what statistical test(s) you will conduct to verify the significance of the\n",
    "observation  \n",
    "c) how you would interpret the results and provide recommendations to the city\n",
    "operations team along with any caveats.\n",
    "\n",
    "Note: The two cities of Gotham and Metropolis are not in the provided dataset; however, you do\n",
    "not need this information to answer Part 2."
   ]
  },
  {
   "cell_type": "markdown",
   "source": [
    "### Response\n",
    "\n",
    "This is a challenging set of questions because it is difficult to know what information we know for sure.\n",
    "Therefore, I'm making the following assumptions:  \n",
    "a) These incentives will also increase the company's overall net income.\n",
    "- There is a risk that we will succeed for this project (or benefit one of the cities) but end up hurting the company because the additional fees eat up too much of the profits.\n",
    "\n",
    "b) There is a driver's app that already collects information (including details about tolls) automatically.\n",
    "\n",
    "c) We already collect all the data needed for this, or can calculate it somehow, without violating laws / privacy concerns.\n",
    "- It's my understanding, riders are automatically billed tolls (including when the driver goes to or returns to a destination in some cases).\n",
    "However, I don't think we would already know about the driver's personal time (i.e. they paid a toll to get to the other city without a ride booked and then started working).\n",
    "\n",
    "#### Answer 1\n",
    "The total amount of tolls reimbursed is the key measure of success.\n",
    "Would compare this amount from before and during the campaign (adjusted for seasonal variation if necessary).\n",
    "\n",
    "#### Answer 2a\n",
    "Would implement the experiment by:\n",
    "- send a notice to all driver's in the two cities about the new campaign.\n",
    "- have a clear start date and end date for it (one quarter or whatever the company's release cycle was).\n",
    "- have the existing app automatically handle the new reimbursements (this assumes there is zero development costs for the company).\n",
    "- analyze and evaluate the results\n",
    "\n",
    "#### Answer 2b and 2c\n",
    "Will assume the:\n",
    "- campaign has a large sample size (lots of drivers in both cities and crossing the bridge/paying tolls) \n",
    "- data is normally distributed\n",
    "- desired significance level is 0.05 (all in one direction).\n",
    "\n",
    "Therefore, we'll use a one-tailed z-test to determine statistical significance.\n",
    "\n",
    "Finally, will assume the results are significantly different and that we can reject the null hypothesis.\n",
    "In this case, reimbursing the tolls did provide the necessary incentives to encourage the drivers to work in multiple cities.\n",
    "\n",
    "While presenting this good news to the Ultimate managers of city operations I'd be sure to include all the assumptions made.\n",
    "In this notebook, there are a significant number of assumptions because everything is theoretical.\n",
    "In a real project, most of these assumptions would be clarified by the data/results or others before the presentation of the results.\n",
    "\n",
    "However, it may take some time after the campaign has ended to determine if reimbursing all tolls really improves the company's net income.\n",
    "As a result, there should be a delay until this is confirmed before making this change permanent."
   ],
   "metadata": {
    "collapsed": false,
    "pycharm": {
     "name": "#%% md\n"
    }
   }
  }
 ],
 "metadata": {
  "kernelspec": {
   "name": "pycharm-cef1f773",
   "language": "python",
   "display_name": "PyCharm (pycon2015_tutorial322)"
  },
  "language_info": {
   "codemirror_mode": {
    "name": "ipython",
    "version": 2
   },
   "file_extension": ".py",
   "mimetype": "text/x-python",
   "name": "python",
   "nbconvert_exporter": "python",
   "pygments_lexer": "ipython2",
   "version": "2.7.6"
  }
 },
 "nbformat": 4,
 "nbformat_minor": 0
}