{
 "cells": [
  {
   "cell_type": "markdown",
   "metadata": {
    "collapsed": true,
    "pycharm": {
     "name": "#%% md\n"
    }
   },
   "source": [
    "# Ultimate Inc\n",
    "\n",
    "## Part 1 of Data Science Challenge\n",
    "\n",
    "The attached logins.json file contains (simulated) timestamps of user logins in a particular geographic location.\n",
    "Aggregate these login counts based on 15-minute time intervals, and visualize and describe the resulting time series of login counts in ways that best characterize the underlying patterns of the demand.\n",
    "Please report/illustrate important features of the demand, such as daily cycles. \n",
    "If there are data quality issues, please report them."
   ]
  },
  {
   "cell_type": "code",
   "execution_count": 44,
   "outputs": [],
   "source": [
    "import pandas as pd"
   ],
   "metadata": {
    "collapsed": false,
    "pycharm": {
     "name": "#%%\n"
    }
   }
  },
  {
   "cell_type": "code",
   "execution_count": 45,
   "outputs": [
    {
     "data": {
      "text/plain": "           login_time\n0 1970-01-01 20:13:18\n1 1970-01-01 20:16:10\n2 1970-01-01 20:16:37",
      "text/html": "<div>\n<style scoped>\n    .dataframe tbody tr th:only-of-type {\n        vertical-align: middle;\n    }\n\n    .dataframe tbody tr th {\n        vertical-align: top;\n    }\n\n    .dataframe thead th {\n        text-align: right;\n    }\n</style>\n<table border=\"1\" class=\"dataframe\">\n  <thead>\n    <tr style=\"text-align: right;\">\n      <th></th>\n      <th>login_time</th>\n    </tr>\n  </thead>\n  <tbody>\n    <tr>\n      <th>0</th>\n      <td>1970-01-01 20:13:18</td>\n    </tr>\n    <tr>\n      <th>1</th>\n      <td>1970-01-01 20:16:10</td>\n    </tr>\n    <tr>\n      <th>2</th>\n      <td>1970-01-01 20:16:37</td>\n    </tr>\n  </tbody>\n</table>\n</div>"
     },
     "execution_count": 45,
     "metadata": {},
     "output_type": "execute_result"
    }
   ],
   "source": [
    "df = pd.read_json('logins.json')\n",
    "df.head(3)"
   ],
   "metadata": {
    "collapsed": false,
    "pycharm": {
     "name": "#%%\n"
    }
   }
  },
  {
   "cell_type": "markdown",
   "source": [
    "### Wrangling Data\n",
    "\n",
    "Will be working with data that will require time series analysis.\n",
    "In some cases I'd reach out to the interviewer (or business analyst) to see if a specific time series library was preferred by the company/team.\n",
    "In this case, assuming the challenge is expected to be solved without using these types of libraries."
   ],
   "metadata": {
    "collapsed": false,
    "pycharm": {
     "name": "#%% md\n"
    }
   }
  },
  {
   "cell_type": "code",
   "execution_count": 46,
   "outputs": [
    {
     "data": {
      "text/plain": "(93142, 1)"
     },
     "execution_count": 46,
     "metadata": {},
     "output_type": "execute_result"
    }
   ],
   "source": [
    "# Has 1 column and 90k+ rows.\n",
    "df.shape"
   ],
   "metadata": {
    "collapsed": false,
    "pycharm": {
     "name": "#%%\n"
    }
   }
  },
  {
   "cell_type": "code",
   "execution_count": 47,
   "outputs": [
    {
     "data": {
      "text/plain": "login_time    0\ndtype: int64"
     },
     "execution_count": 47,
     "metadata": {},
     "output_type": "execute_result"
    }
   ],
   "source": [
    "# Checking for missing values\n",
    "df.isnull().sum()"
   ],
   "metadata": {
    "collapsed": false,
    "pycharm": {
     "name": "#%%\n"
    }
   }
  },
  {
   "cell_type": "code",
   "execution_count": 48,
   "outputs": [
    {
     "name": "stdout",
     "output_type": "stream",
     "text": [
      "<class 'pandas.core.frame.DataFrame'>\n",
      "RangeIndex: 93142 entries, 0 to 93141\n",
      "Data columns (total 1 columns):\n",
      " #   Column      Non-Null Count  Dtype         \n",
      "---  ------      --------------  -----         \n",
      " 0   login_time  93142 non-null  datetime64[ns]\n",
      "dtypes: datetime64[ns](1)\n",
      "memory usage: 727.8 KB\n"
     ]
    }
   ],
   "source": [
    "# Converting to a datetime format\n",
    "df['login_time'] = pd.to_datetime(df['login_time'])\n",
    "df.sort_values('login_time')\n",
    "df.info()"
   ],
   "metadata": {
    "collapsed": false,
    "pycharm": {
     "name": "#%%\n"
    }
   }
  },
  {
   "cell_type": "code",
   "execution_count": 49,
   "outputs": [
    {
     "data": {
      "text/plain": "92265"
     },
     "execution_count": 49,
     "metadata": {},
     "output_type": "execute_result"
    }
   ],
   "source": [
    "# Checking to see if login_time is unique so it can be used as the index.\n",
    "df['login_time'].nunique()"
   ],
   "metadata": {
    "collapsed": false,
    "pycharm": {
     "name": "#%%\n"
    }
   }
  },
  {
   "cell_type": "markdown",
   "source": [
    "877 are NOT unique (less than 1%).\n",
    "\n",
    "Since this is simulated data will drop these values and then set the index to the login_time.\n",
    "However, may not do this on a real project because these could be different users that are logged in at the exact same time because we only have date times that go to the second."
   ],
   "metadata": {
    "collapsed": false
   }
  },
  {
   "cell_type": "code",
   "execution_count": 50,
   "outputs": [
    {
     "data": {
      "text/plain": "(92265, 1)"
     },
     "execution_count": 50,
     "metadata": {},
     "output_type": "execute_result"
    }
   ],
   "source": [
    "df.drop_duplicates(inplace=True)\n",
    "df.shape"
   ],
   "metadata": {
    "collapsed": false,
    "pycharm": {
     "name": "#%%\n"
    }
   }
  },
  {
   "cell_type": "code",
   "execution_count": 51,
   "outputs": [
    {
     "name": "stdout",
     "output_type": "stream",
     "text": [
      "First date: 1970-01-01 20:12:16.\n",
      "Last date: 1970-04-13 18:57:38.\n"
     ]
    }
   ],
   "source": [
    "# Checking time ranges.\n",
    "\n",
    "print(f\"First date: {df['login_time'].min()}.\")\n",
    "print(f\"Last date: {df['login_time'].max()}.\")"
   ],
   "metadata": {
    "collapsed": false,
    "pycharm": {
     "name": "#%%\n"
    }
   }
  },
  {
   "cell_type": "code",
   "execution_count": 52,
   "outputs": [
    {
     "name": "stdout",
     "output_type": "stream",
     "text": [
      "<class 'pandas.core.frame.DataFrame'>\n",
      "Int64Index: 92265 entries, 0 to 93141\n",
      "Data columns (total 11 columns):\n",
      " #   Column        Non-Null Count  Dtype         \n",
      "---  ------        --------------  -----         \n",
      " 0   login_time    92265 non-null  datetime64[ns]\n",
      " 1   login_count   92265 non-null  int64         \n",
      " 2   year          92265 non-null  int64         \n",
      " 3   month         92265 non-null  int64         \n",
      " 4   day           92265 non-null  int64         \n",
      " 5   hour          92265 non-null  int64         \n",
      " 6   minute        92265 non-null  int64         \n",
      " 7   second        92265 non-null  int64         \n",
      " 8   day_of_week   92265 non-null  int64         \n",
      " 9   week_of_year  92265 non-null  UInt32        \n",
      " 10  day_of_year   92265 non-null  int64         \n",
      "dtypes: UInt32(1), datetime64[ns](1), int64(9)\n",
      "memory usage: 8.2 MB\n"
     ]
    }
   ],
   "source": [
    "# Create new columns\n",
    "# This default value will change in calculations later.\n",
    "df['login_count'] = 1\n",
    "# Separating out the various time components by referencing https://pandas.pydata.org/docs/user_guide/timeseries.html#timeseries-components\n",
    "df['year'] = df['login_time'].dt.year\n",
    "df['month'] = df['login_time'].dt.month\n",
    "df['day'] = df['login_time'].dt.day\n",
    "df['hour'] = df['login_time'].dt.hour\n",
    "df['minute'] = df['login_time'].dt.minute\n",
    "df['second'] = df['login_time'].dt.second\n",
    "# Monday=0, Sunday=6\n",
    "df['day_of_week'] = df['login_time'].dt.day_of_week\n",
    "# Changed pattern because weekofyear is deprecated\n",
    "df['week_of_year'] = df['login_time'].dt.isocalendar().week\n",
    "df['day_of_year'] = df['login_time'].dt.day_of_year\n",
    "df.info()"
   ],
   "metadata": {
    "collapsed": false,
    "pycharm": {
     "name": "#%%\n"
    }
   }
  },
  {
   "cell_type": "code",
   "execution_count": 53,
   "outputs": [
    {
     "data": {
      "text/plain": "login_count  year  month  day  hour  minute  second  day_of_week  week_of_year  day_of_year\n1            1970  1      1    20    12      16      3            1             1              1\n                   3      16   3     19      5       0            12            75             1\n                                     11      51      0            12            75             1\n                                     9       54      0            12            75             1\n                                             50      0            12            75             1\n                                                                                              ..\n                   2      13   19    41      59      4            7             44             1\n                                     39      13      4            7             44             1\n                                     38      33      4            7             44             1\n                                             14      4            7             44             1\n                   4      13   18    57      38      0            16            103            1\nLength: 92265, dtype: int64"
     },
     "execution_count": 53,
     "metadata": {},
     "output_type": "execute_result"
    }
   ],
   "source": [
    "df = df.set_index('login_time')\n",
    "df.value_counts()"
   ],
   "metadata": {
    "collapsed": false,
    "pycharm": {
     "name": "#%%\n"
    }
   }
  },
  {
   "cell_type": "code",
   "execution_count": 54,
   "outputs": [
    {
     "data": {
      "text/plain": "                     login_count  year  month  day  hour  minute  day_of_week  \\\nlogin_time                                                                      \n1970-01-01 20:00:00            2  1970      1    1    20       0            3   \n1970-01-01 20:15:00            6  1970      1    1    20      15            3   \n1970-01-01 20:30:00            9  1970      1    1    20      30            3   \n1970-01-01 20:45:00            7  1970      1    1    20      45            3   \n1970-01-01 21:00:00            1  1970      1    1    21       0            3   \n\n                     week_of_year  day_of_year  \nlogin_time                                      \n1970-01-01 20:00:00             1            1  \n1970-01-01 20:15:00             1            1  \n1970-01-01 20:30:00             1            1  \n1970-01-01 20:45:00             1            1  \n1970-01-01 21:00:00             1            1  ",
      "text/html": "<div>\n<style scoped>\n    .dataframe tbody tr th:only-of-type {\n        vertical-align: middle;\n    }\n\n    .dataframe tbody tr th {\n        vertical-align: top;\n    }\n\n    .dataframe thead th {\n        text-align: right;\n    }\n</style>\n<table border=\"1\" class=\"dataframe\">\n  <thead>\n    <tr style=\"text-align: right;\">\n      <th></th>\n      <th>login_count</th>\n      <th>year</th>\n      <th>month</th>\n      <th>day</th>\n      <th>hour</th>\n      <th>minute</th>\n      <th>day_of_week</th>\n      <th>week_of_year</th>\n      <th>day_of_year</th>\n    </tr>\n    <tr>\n      <th>login_time</th>\n      <th></th>\n      <th></th>\n      <th></th>\n      <th></th>\n      <th></th>\n      <th></th>\n      <th></th>\n      <th></th>\n      <th></th>\n    </tr>\n  </thead>\n  <tbody>\n    <tr>\n      <th>1970-01-01 20:00:00</th>\n      <td>2</td>\n      <td>1970</td>\n      <td>1</td>\n      <td>1</td>\n      <td>20</td>\n      <td>0</td>\n      <td>3</td>\n      <td>1</td>\n      <td>1</td>\n    </tr>\n    <tr>\n      <th>1970-01-01 20:15:00</th>\n      <td>6</td>\n      <td>1970</td>\n      <td>1</td>\n      <td>1</td>\n      <td>20</td>\n      <td>15</td>\n      <td>3</td>\n      <td>1</td>\n      <td>1</td>\n    </tr>\n    <tr>\n      <th>1970-01-01 20:30:00</th>\n      <td>9</td>\n      <td>1970</td>\n      <td>1</td>\n      <td>1</td>\n      <td>20</td>\n      <td>30</td>\n      <td>3</td>\n      <td>1</td>\n      <td>1</td>\n    </tr>\n    <tr>\n      <th>1970-01-01 20:45:00</th>\n      <td>7</td>\n      <td>1970</td>\n      <td>1</td>\n      <td>1</td>\n      <td>20</td>\n      <td>45</td>\n      <td>3</td>\n      <td>1</td>\n      <td>1</td>\n    </tr>\n    <tr>\n      <th>1970-01-01 21:00:00</th>\n      <td>1</td>\n      <td>1970</td>\n      <td>1</td>\n      <td>1</td>\n      <td>21</td>\n      <td>0</td>\n      <td>3</td>\n      <td>1</td>\n      <td>1</td>\n    </tr>\n  </tbody>\n</table>\n</div>"
     },
     "execution_count": 54,
     "metadata": {},
     "output_type": "execute_result"
    }
   ],
   "source": [
    "# Create new dataframe for grouping by 15 minutes.\n",
    "df_15_min = pd.DataFrame(df['login_count'].resample('15Min').sum())\n",
    "df_15_min['year'] = df_15_min.index.year\n",
    "df_15_min['month'] = df_15_min.index.month\n",
    "df_15_min['day'] = df_15_min.index.day\n",
    "df_15_min['hour'] = df_15_min.index.hour\n",
    "df_15_min['minute'] = df_15_min.index.minute\n",
    "# Monday=0, Sunday=6\n",
    "df_15_min['day_of_week'] = df_15_min.index.day_of_week\n",
    "# Changed pattern because weekofyear is deprecated\n",
    "df_15_min['week_of_year'] = df_15_min.index.isocalendar().week\n",
    "df_15_min['day_of_year'] = df_15_min.index.day_of_year\n",
    "df_15_min.head()"
   ],
   "metadata": {
    "collapsed": false,
    "pycharm": {
     "name": "#%%\n"
    }
   }
  },
  {
   "cell_type": "code",
   "execution_count": 55,
   "outputs": [
    {
     "data": {
      "text/plain": "login_count  year  month  day  hour  minute  day_of_week  week_of_year  day_of_year\n0            1970  1      1    21    30      3            1             1              1\n11           1970  2      7    19    45      5            6             38             1\n                          6    3     45      4            6             37             1\n                               12    45      4            6             37             1\n                               19    30      4            6             37             1\n                                                                                      ..\n5            1970  1      11   23    45      6            2             11             1\n                          12   1     0       0            3             12             1\n                               4     15      0            3             12             1\n                                     45      0            3             12             1\n68           1970  3      1    4     30      6            9             60             1\nLength: 9788, dtype: int64"
     },
     "execution_count": 55,
     "metadata": {},
     "output_type": "execute_result"
    }
   ],
   "source": [
    "df_15_min.value_counts()"
   ],
   "metadata": {
    "collapsed": false,
    "pycharm": {
     "name": "#%%\n"
    }
   }
  },
  {
   "cell_type": "markdown",
   "source": [
    "### Visualize Data"
   ],
   "metadata": {
    "collapsed": false,
    "pycharm": {
     "name": "#%% md\n"
    }
   }
  }
 ],
 "metadata": {
  "kernelspec": {
   "name": "pycharm-cef1f773",
   "language": "python",
   "display_name": "PyCharm (pycon2015_tutorial322)"
  },
  "language_info": {
   "codemirror_mode": {
    "name": "ipython",
    "version": 2
   },
   "file_extension": ".py",
   "mimetype": "text/x-python",
   "name": "python",
   "nbconvert_exporter": "python",
   "pygments_lexer": "ipython2",
   "version": "2.7.6"
  }
 },
 "nbformat": 4,
 "nbformat_minor": 0
}